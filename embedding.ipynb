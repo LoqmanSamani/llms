{
 "cells": [
  {
   "cell_type": "code",
   "execution_count": 16,
   "id": "fb111cb5-4e73-43b4-ad3e-24d1af27aba0",
   "metadata": {},
   "outputs": [],
   "source": [
    "from urllib import request \n",
    "from re import split, sub\n",
    "import tiktoken \n",
    "import torch \n",
    "from torch.utils.data import Dataset, DataLoader "
   ]
  },
  {
   "cell_type": "markdown",
   "id": "a579ef31-1686-4e6e-ba93-a438e8e1b922",
   "metadata": {},
   "source": [
    "#### uploade text\n",
    "\n",
    "#### SOURCE: [Raschka, Sebastian. Build a Large Language Model (From Scratch). Simon and Schuster, 2024.](https://www.simonandschuster.com/books/Build-a-Large-Language-Model-From-Scratch/Sebastian-Raschka/9781394200867)"
   ]
  },
  {
   "cell_type": "code",
   "execution_count": 17,
   "id": "2cfca5f2-7b80-4e51-919b-e014512cb7de",
   "metadata": {},
   "outputs": [
    {
     "data": {
      "text/plain": [
       "('the-verdict.txt', <http.client.HTTPMessage at 0x1da319f1c70>)"
      ]
     },
     "execution_count": 17,
     "metadata": {},
     "output_type": "execute_result"
    }
   ],
   "source": [
    "url = (\"https://raw.githubusercontent.com/rasbt/\"\n",
    "\"LLMs-from-scratch/main/ch02/01_main-chapter-code/\"\n",
    "\"the-verdict.txt\")\n",
    "file_path = \"the-verdict.txt\"\n",
    "request.urlretrieve(url, file_path)"
   ]
  },
  {
   "cell_type": "code",
   "execution_count": 18,
   "id": "447c6428-5098-460f-b216-14aa35352467",
   "metadata": {},
   "outputs": [
    {
     "name": "stdout",
     "output_type": "stream",
     "text": [
      "number of characters: 20479\n",
      "I HAD always thought Jack Gisburn rather a cheap genius--though a good fellow enough--so it was no great surprise to me to hear that, in the height of his glory, he had dropped his painting, married a rich widow, and established himself in a villa on the Riviera. (Though I rather thought it would ha\n"
     ]
    }
   ],
   "source": [
    "#book = None\n",
    "with open(\"the-verdict.txt\", \"r\", encoding=\"utf-8\") as file:\n",
    "    text = file.read()\n",
    "    book = file.read()\n",
    "    print(f\"number of characters: {len(text)}\")\n",
    "    print(text[:300])\n",
    "    \n",
    "    "
   ]
  },
  {
   "cell_type": "code",
   "execution_count": 19,
   "id": "a40c86ec-5f3d-44b3-8494-a76206c6327c",
   "metadata": {},
   "outputs": [
    {
     "name": "stdout",
     "output_type": "stream",
     "text": [
      "I HAD always thought Jack Gisburn rather a cheap genius--though a good fellow enough--so it was no g\n",
      "['I', ' ', 'HAD', ' ', 'always', ' ', 'thought', ' ', 'Jack', ' ', 'Gisburn', ' ', 'rather', ' ', 'a', ' ', 'cheap', ' ', 'genius', '--', 'though', ' ', 'a', ' ', 'good', ' ', 'fellow', ' ', 'enough', '--', 'so', ' ', 'it', ' ', 'was', ' ', 'no', ' ', 'great', ' ', 'surprise', ' ', 'to', ' ', 'me', ' ', 'to', ' ', 'hear', ' ', 'that', ',', '', ' ', 'in', ' ', 'the', ' ', 'height', ' ', 'of', ' ', 'his', ' ', 'glory', ',', '', ' ', 'he', ' ', 'had', ' ', 'dropped', ' ', 'his', ' ', 'painting', ',', '', ' ', 'married', ' ', 'a', ' ', 'rich', ' ', 'widow', ',', '', ' ', 'and', ' ', 'established', ' ', 'himself', ' ', 'in', ' ', 'a', ' ']\n"
     ]
    }
   ],
   "source": [
    "f = open(\"the-verdict.txt\", \"r\", encoding=\"utf-8\")\n",
    "book = f.read()\n",
    "result = split(r'([,.:;?_!\"()\\']|--|\\s)', book)\n",
    "print(book[:100])\n",
    "print(result[:100])"
   ]
  },
  {
   "cell_type": "code",
   "execution_count": 20,
   "id": "4640c7a4-19ec-4726-b0c4-37628b490406",
   "metadata": {},
   "outputs": [],
   "source": [
    "result = [item.strip() for item in result if item.strip()]"
   ]
  },
  {
   "cell_type": "code",
   "execution_count": 21,
   "id": "bf6c259d-a01e-4c75-abed-db1611f4693b",
   "metadata": {},
   "outputs": [
    {
     "name": "stdout",
     "output_type": "stream",
     "text": [
      "['I', 'HAD', 'always', 'thought', 'Jack', 'Gisburn', 'rather', 'a', 'cheap', 'genius', '--', 'though', 'a', 'good', 'fellow', 'enough', '--', 'so', 'it', 'was', 'no', 'great', 'surprise', 'to', 'me', 'to', 'hear', 'that', ',', 'in', 'the', 'height', 'of', 'his', 'glory', ',', 'he', 'had', 'dropped', 'his', 'painting', ',', 'married', 'a', 'rich', 'widow', ',', 'and', 'established', 'himself', 'in', 'a', 'villa', 'on', 'the', 'Riviera', '.', '(', 'Though', 'I', 'rather', 'thought', 'it', 'would', 'have', 'been', 'Rome', 'or', 'Florence', '.', ')', '\"', 'The', 'height', 'of', 'his', 'glory', '\"', '--', 'that', 'was', 'what', 'the', 'women', 'called', 'it', '.', 'I', 'can', 'hear', 'Mrs', '.', 'Gideon', 'Thwing', '--', 'his', 'last', 'Chicago', 'sitter', '--']\n"
     ]
    }
   ],
   "source": [
    "print(result[:100])"
   ]
  },
  {
   "cell_type": "code",
   "execution_count": 22,
   "id": "5cd54bab-c012-4516-9ebc-3d4777581cae",
   "metadata": {},
   "outputs": [
    {
     "name": "stdout",
     "output_type": "stream",
     "text": [
      "4690\n"
     ]
    }
   ],
   "source": [
    "print(len(result))"
   ]
  },
  {
   "cell_type": "code",
   "execution_count": 23,
   "id": "b37e9568-3ac8-4e78-9dae-2b57c3a5b8d7",
   "metadata": {},
   "outputs": [
    {
     "name": "stdout",
     "output_type": "stream",
     "text": [
      "1132\n"
     ]
    }
   ],
   "source": [
    "all_words = sorted(set(result))\n",
    "all_words.extend([\"<|endoftext|>\", \"<|unk|>\"])\n",
    "print(len(all_words))"
   ]
  },
  {
   "cell_type": "code",
   "execution_count": 24,
   "id": "a2c759ad-c187-4692-b7f5-804468d8299c",
   "metadata": {},
   "outputs": [],
   "source": [
    "vocab = {token: integer for integer, token in enumerate(all_words)}"
   ]
  },
  {
   "cell_type": "code",
   "execution_count": 25,
   "id": "b3d39cc2-aaae-42d3-9ab2-488e90f0585e",
   "metadata": {},
   "outputs": [
    {
     "name": "stdout",
     "output_type": "stream",
     "text": [
      "('!', 0)\n",
      "('\"', 1)\n",
      "(\"'\", 2)\n",
      "('(', 3)\n",
      "(')', 4)\n",
      "(',', 5)\n",
      "('--', 6)\n",
      "('.', 7)\n",
      "(':', 8)\n",
      "(';', 9)\n",
      "('?', 10)\n",
      "('A', 11)\n",
      "('Ah', 12)\n",
      "('Among', 13)\n",
      "('And', 14)\n",
      "('Are', 15)\n",
      "('Arrt', 16)\n",
      "('As', 17)\n",
      "('At', 18)\n",
      "('Be', 19)\n",
      "('Begin', 20)\n"
     ]
    }
   ],
   "source": [
    "for i, item in enumerate(vocab.items()):\n",
    "    print(item)\n",
    "    if i >=20:\n",
    "        break"
   ]
  },
  {
   "cell_type": "code",
   "execution_count": 26,
   "id": "70e1b213-8371-408c-9a4e-68d7254fa831",
   "metadata": {},
   "outputs": [
    {
     "name": "stdout",
     "output_type": "stream",
     "text": [
      "('younger', 1127)\n",
      "('your', 1128)\n",
      "('yourself', 1129)\n",
      "('<|endoftext|>', 1130)\n",
      "('<|unk|>', 1131)\n"
     ]
    }
   ],
   "source": [
    "for i, item in enumerate(list(vocab.items())[-5:]):\n",
    "    print(item)\n",
    "    #if i >=20:\n",
    "       # break"
   ]
  },
  {
   "cell_type": "code",
   "execution_count": 27,
   "id": "73d24561-7eb8-4a4c-a03c-263c6dc23d0f",
   "metadata": {},
   "outputs": [],
   "source": [
    "class Tokenizer:\n",
    "    # Simple implementation of a tokenizer class\n",
    "    def __init__(self, vocab):\n",
    "        \n",
    "        self.str_to_int = vocab\n",
    "        self.int_to_str = {i:token for token,i in vocab.items()}\n",
    "\n",
    "    def encoder(self, text):\n",
    "        \n",
    "        preprocessed = split(r'([,.?_!\"()\\']|--|\\s)', text)\n",
    "        preprocessed = [item.strip() for item in preprocessed if item.strip()]\n",
    "        preprocessed = [item if item in self.str_to_int else \"<|unk|>\" for item in preprocessed]\n",
    "        ids = [self.str_to_int[token] for token in preprocessed]\n",
    "        \n",
    "        return ids\n",
    "\n",
    "    def decoder(self, ids):\n",
    "        \n",
    "        text = \" \".join(self.int_to_str[i] for i in ids)\n",
    "        text = sub(r'\\s+([,.?!\"()\\'])', r'\\1', text) # remove spaces before the specified punctuation.\n",
    "\n",
    "        return text"
   ]
  },
  {
   "cell_type": "code",
   "execution_count": 28,
   "id": "2c861791-5a3d-4578-b169-b4149ecdc40e",
   "metadata": {},
   "outputs": [],
   "source": [
    "tokenizer = Tokenizer(vocab)\n",
    "text = \"It's the last he painted, you know, Mrs. Gisburn said with pardonable pride.\"\n",
    "ids = tokenizer.encoder(text)\n",
    "text = tokenizer.decoder(ids)"
   ]
  },
  {
   "cell_type": "code",
   "execution_count": 29,
   "id": "0c3f7d01-733b-4898-90dc-a8502f6f4207",
   "metadata": {},
   "outputs": [
    {
     "name": "stdout",
     "output_type": "stream",
     "text": [
      "[56, 2, 850, 988, 602, 533, 746, 5, 1126, 596, 5, 67, 7, 38, 851, 1108, 754, 793, 7]\n",
      "It' s the last he painted, you know, Mrs. Gisburn said with pardonable pride.\n"
     ]
    }
   ],
   "source": [
    "print(ids)\n",
    "print(text)"
   ]
  },
  {
   "cell_type": "code",
   "execution_count": 30,
   "id": "42209b6d-8f3c-4c57-980e-55696b0275c1",
   "metadata": {},
   "outputs": [],
   "source": [
    "ids_ = tokenizer.encoder(book)\n",
    "text_ = tokenizer.decoder(ids_)"
   ]
  },
  {
   "cell_type": "code",
   "execution_count": 31,
   "id": "5ba2e02c-c1ce-4bfc-b62c-afa4815cc6c4",
   "metadata": {},
   "outputs": [
    {
     "name": "stdout",
     "output_type": "stream",
     "text": [
      "[53, 44, 149, 1003, 57, 38, 818, 115, 256, 486, 6, 1002, 115, 500, 435, 392, 6, 908, 585, 1077]\n",
      "I HAD always thought Jack Gisburn rather a cheap genius -- though a good fellow enough -- so it was \n"
     ]
    }
   ],
   "source": [
    "print(ids_[:20])\n",
    "print(text_[:100])"
   ]
  },
  {
   "cell_type": "code",
   "execution_count": 32,
   "id": "95995769-4c23-4d0f-81d8-ed96133d9c73",
   "metadata": {},
   "outputs": [
    {
     "name": "stdout",
     "output_type": "stream",
     "text": [
      "Hello, do you like tea? <|endoftext|> In the sunlit terraces of the palace.\n"
     ]
    }
   ],
   "source": [
    "text1 = \"Hello, do you like tea?\"\n",
    "text2 = \"In the sunlit terraces of the palace.\"\n",
    "text3 = \" <|endoftext|> \".join((text1, text2))\n",
    "print(text3)"
   ]
  },
  {
   "cell_type": "code",
   "execution_count": 33,
   "id": "a8ebaab6-90f3-4057-a854-d53f17346e91",
   "metadata": {},
   "outputs": [
    {
     "name": "stdout",
     "output_type": "stream",
     "text": [
      "[1131, 5, 355, 1126, 628, 975, 10, 1130, 55, 988, 956, 984, 722, 988, 1131, 7]\n",
      "<|unk|>, do you like tea? <|endoftext|> In the sunlit terraces of the <|unk|>.\n"
     ]
    }
   ],
   "source": [
    "tokenizer1 = Tokenizer(vocab)\n",
    "print(tokenizer1.encoder(text3))\n",
    "print(tokenizer.decoder(tokenizer1.encoder(text3)))"
   ]
  },
  {
   "cell_type": "code",
   "execution_count": 34,
   "id": "8e56e3f8-d1e5-4d27-a281-11daf41c4c67",
   "metadata": {},
   "outputs": [],
   "source": [
    "tokenizer = tiktoken.get_encoding(\"gpt2\") #  instantiate the BPE (byte pair encoding) tokenizer from tiktoken library."
   ]
  },
  {
   "cell_type": "code",
   "execution_count": 35,
   "id": "7d89c1a4-9a5c-474a-81b5-a43edde44066",
   "metadata": {},
   "outputs": [
    {
     "name": "stdout",
     "output_type": "stream",
     "text": [
      "[15496, 11, 466, 345, 588, 8887, 30, 220, 50256, 554, 262, 4252, 18250, 8812, 2114, 1659, 617, 34680, 27271, 13]\n"
     ]
    }
   ],
   "source": [
    "text = (\n",
    "\"Hello, do you like tea? <|endoftext|> In the sunlit terraces\"\n",
    "\"of someunknownPlace.\"\n",
    ")\n",
    "\n",
    "integers = tokenizer.encode(text, allowed_special={\"<|endoftext|>\"})\n",
    "print(integers)"
   ]
  },
  {
   "cell_type": "code",
   "execution_count": 36,
   "id": "fe06a82b-23a1-47c3-9bcb-871cea16b40e",
   "metadata": {},
   "outputs": [
    {
     "name": "stdout",
     "output_type": "stream",
     "text": [
      "Hello, do you like tea? <|endoftext|> In the sunlit terracesof someunknownPlace.\n"
     ]
    }
   ],
   "source": [
    "strings = tokenizer.decode(integers)\n",
    "print(strings)"
   ]
  },
  {
   "cell_type": "code",
   "execution_count": 37,
   "id": "afc11e46-9a86-4fa6-b3d7-abf94cfb2ab1",
   "metadata": {},
   "outputs": [
    {
     "name": "stdout",
     "output_type": "stream",
     "text": [
      "15496: Hello\n",
      "11: ,\n",
      "466:  do\n",
      "345:  you\n",
      "588:  like\n",
      "8887:  tea\n",
      "30: ?\n",
      "220:  \n",
      "50256: <|endoftext|>\n",
      "554:  In\n",
      "262:  the\n",
      "4252:  sun\n",
      "18250: lit\n",
      "8812:  terr\n",
      "2114: aces\n",
      "1659: of\n",
      "617:  some\n",
      "34680: unknown\n",
      "27271: Place\n",
      "13: .\n"
     ]
    }
   ],
   "source": [
    "for int_ in integers:\n",
    "    print(f\"{int_}: {tokenizer.decode([int_])}\")"
   ]
  },
  {
   "cell_type": "markdown",
   "id": "afb45013-6b13-497e-9aeb-a88e6154a755",
   "metadata": {},
   "source": [
    "####  Data sampling with a sliding window"
   ]
  },
  {
   "cell_type": "code",
   "execution_count": 38,
   "id": "d80707c9-9ee1-4bbb-a1d2-75b2498cfb6a",
   "metadata": {},
   "outputs": [
    {
     "name": "stdout",
     "output_type": "stream",
     "text": [
      "5145\n"
     ]
    }
   ],
   "source": [
    "tokenizer = tiktoken.get_encoding(\"gpt2\")\n",
    "with open(\"the-verdict.txt\", \"r\", encoding=\"utf-8\") as file:\n",
    "    raw_text = file.read()\n",
    "enc_text = tokenizer.encode(raw_text)\n",
    "print(len(enc_text))"
   ]
  },
  {
   "cell_type": "code",
   "execution_count": 39,
   "id": "75db1154-cd09-4a51-8a21-472c4afb7652",
   "metadata": {},
   "outputs": [],
   "source": [
    "enc_sample = enc_text[50:]"
   ]
  },
  {
   "cell_type": "code",
   "execution_count": 40,
   "id": "e77d357f-ce02-4a20-bc43-1ae3f8937c2f",
   "metadata": {},
   "outputs": [
    {
     "name": "stdout",
     "output_type": "stream",
     "text": [
      "x: [290, 4920, 2241, 287]\n",
      "y: [4920, 2241, 287, 257]\n"
     ]
    }
   ],
   "source": [
    "context_size = 4 # number of tokens include in the input\n",
    "x = enc_sample[:context_size] # input tokens\n",
    "y = enc_sample[1: context_size + 1] # target tokens\n",
    "\n",
    "print(f\"x: {x}\")\n",
    "print(f'y: {y}')"
   ]
  },
  {
   "cell_type": "code",
   "execution_count": 41,
   "id": "a00b408b-c1e2-4410-82ed-d69586269698",
   "metadata": {},
   "outputs": [
    {
     "name": "stdout",
     "output_type": "stream",
     "text": [
      " and established himself in\n",
      " established himself in a\n"
     ]
    }
   ],
   "source": [
    "print(tokenizer.decode(x))\n",
    "print(tokenizer.decode(y))"
   ]
  },
  {
   "cell_type": "code",
   "execution_count": 42,
   "id": "6540959b-247e-4ce8-a84c-b43d054f5d5b",
   "metadata": {},
   "outputs": [
    {
     "name": "stdout",
     "output_type": "stream",
     "text": [
      "[290] -----> 4920\n",
      "[290, 4920] -----> 2241\n",
      "[290, 4920, 2241] -----> 287\n",
      "[290, 4920, 2241, 287] -----> 257\n"
     ]
    }
   ],
   "source": [
    "for i in range(1, context_size+1):\n",
    "    context = enc_sample[:i]\n",
    "    desired = enc_sample[i]\n",
    "    print(context, \"----->\", desired)"
   ]
  },
  {
   "cell_type": "code",
   "execution_count": 43,
   "id": "06777030-4f02-4f9f-b572-e5aeb20c8943",
   "metadata": {},
   "outputs": [
    {
     "name": "stdout",
     "output_type": "stream",
     "text": [
      " and ----->  established\n",
      " and established ----->  himself\n",
      " and established himself ----->  in\n",
      " and established himself in ----->  a\n"
     ]
    }
   ],
   "source": [
    "for i in range(1, context_size+1):\n",
    "    context = tokenizer.decode(enc_sample[:i])\n",
    "    desired = tokenizer.decode([enc_sample[i]])\n",
    "    print(context, \"----->\", desired)"
   ]
  },
  {
   "cell_type": "code",
   "execution_count": 44,
   "id": "11835040-5aec-49fe-86ac-9952d70ce577",
   "metadata": {},
   "outputs": [],
   "source": [
    "# data loader for loading and tokenizing input text\n",
    "class GPTDataset(Dataset):\n",
    "    def __init__(self, txt, tokenizer, max_length, stride): \n",
    "        \n",
    "        self.input_ids = []\n",
    "        self.target_ids = []\n",
    "        token_ids = tokenizer.encode(txt)\n",
    "        \n",
    "        for i in range(0, len(token_ids) - max_length, stride):\n",
    "            \n",
    "            input_chunk = token_ids[i:i + max_length]\n",
    "            target_chunk = token_ids[i + 1: i + max_length + 1]\n",
    "            self.input_ids.append(torch.tensor(input_chunk))\n",
    "            self.target_ids.append(torch.tensor(target_chunk))\n",
    "            \n",
    "    def __len__(self):\n",
    "        return len(self.input_ids)\n",
    "\n",
    "    def __getitem__(self, idx):\n",
    "        return self.input_ids[idx], self.target_ids[idx]"
   ]
  },
  {
   "cell_type": "code",
   "execution_count": 45,
   "id": "146b77e9-17f1-4391-8dc2-b1e8187a944c",
   "metadata": {},
   "outputs": [],
   "source": [
    "def create_dataloader(text, batch_size=4, max_length=256, stride=128, shuffle=True, drop_last=True, num_workers=0):\n",
    "    \n",
    "    tokenizer = tiktoken.get_encoding(\"gpt2\")\n",
    "    dataset = GPTDataset(text, tokenizer, max_length, stride)\n",
    "\n",
    "    dataloader = DataLoader(\n",
    "        dataset,\n",
    "        batch_size=batch_size,\n",
    "        shuffle=shuffle,\n",
    "        drop_last=drop_last, #drop_last=True drops the last batch if it is shorter than the specified batch_size to prevent loss spikes during training.\n",
    "        num_workers=num_workers\n",
    "    )\n",
    "    \n",
    "    return dataloader"
   ]
  },
  {
   "cell_type": "code",
   "execution_count": 46,
   "id": "5727fea5-f619-4dd0-b686-c7cc529d706c",
   "metadata": {},
   "outputs": [
    {
     "name": "stdout",
     "output_type": "stream",
     "text": [
      "[tensor([[   40,   367,  2885,  1464,  1807,  3619,   402,   271, 10899,  2138],\n",
      "        [ 2885,  1464,  1807,  3619,   402,   271, 10899,  2138,   257,  7026],\n",
      "        [ 1807,  3619,   402,   271, 10899,  2138,   257,  7026, 15632,   438],\n",
      "        [  402,   271, 10899,  2138,   257,  7026, 15632,   438,  2016,   257],\n",
      "        [10899,  2138,   257,  7026, 15632,   438,  2016,   257,   922,  5891]]), tensor([[  367,  2885,  1464,  1807,  3619,   402,   271, 10899,  2138,   257],\n",
      "        [ 1464,  1807,  3619,   402,   271, 10899,  2138,   257,  7026, 15632],\n",
      "        [ 3619,   402,   271, 10899,  2138,   257,  7026, 15632,   438,  2016],\n",
      "        [  271, 10899,  2138,   257,  7026, 15632,   438,  2016,   257,   922],\n",
      "        [ 2138,   257,  7026, 15632,   438,  2016,   257,   922,  5891,  1576]])]\n"
     ]
    }
   ],
   "source": [
    "with open(\"the-verdict.txt\", \"r\", encoding=\"utf-8\") as f:\n",
    "    raw_text = f.read()\n",
    "    \n",
    "dataloader = create_dataloader(\n",
    "    text=raw_text,\n",
    "    batch_size=5,\n",
    "    max_length=10,\n",
    "    stride=2,\n",
    "    shuffle=False\n",
    ")\n",
    "\n",
    "data_iter = iter(dataloader)\n",
    "first_batch = next(data_iter)\n",
    "print(first_batch)"
   ]
  },
  {
   "cell_type": "code",
   "execution_count": 47,
   "id": "5ffe471d-3fab-4fa8-b4d2-cc780d683139",
   "metadata": {},
   "outputs": [
    {
     "name": "stdout",
     "output_type": "stream",
     "text": [
      "[tensor([[  257,  7026, 15632,   438,  2016,   257,   922,  5891,  1576,   438],\n",
      "        [15632,   438,  2016,   257,   922,  5891,  1576,   438,   568,   340],\n",
      "        [ 2016,   257,   922,  5891,  1576,   438,   568,   340,   373,   645],\n",
      "        [  922,  5891,  1576,   438,   568,   340,   373,   645,  1049,  5975],\n",
      "        [ 1576,   438,   568,   340,   373,   645,  1049,  5975,   284,   502]]), tensor([[ 7026, 15632,   438,  2016,   257,   922,  5891,  1576,   438,   568],\n",
      "        [  438,  2016,   257,   922,  5891,  1576,   438,   568,   340,   373],\n",
      "        [  257,   922,  5891,  1576,   438,   568,   340,   373,   645,  1049],\n",
      "        [ 5891,  1576,   438,   568,   340,   373,   645,  1049,  5975,   284],\n",
      "        [  438,   568,   340,   373,   645,  1049,  5975,   284,   502,   284]])]\n"
     ]
    }
   ],
   "source": [
    "second_batch = next(data_iter)\n",
    "print(second_batch)"
   ]
  },
  {
   "cell_type": "markdown",
   "id": "b081ec03-c949-4b15-a560-e1655f7ce310",
   "metadata": {},
   "source": [
    "### Embedding vectors"
   ]
  },
  {
   "cell_type": "code",
   "execution_count": 48,
   "id": "83fdb95e-5a90-4f3f-8084-4fa37c9a9e95",
   "metadata": {},
   "outputs": [
    {
     "name": "stdout",
     "output_type": "stream",
     "text": [
      "Parameter containing:\n",
      "tensor([[ 0.3374, -0.1778, -0.3035, -0.5880,  0.3486,  0.6603],\n",
      "        [-0.2196, -0.3792,  0.7671, -1.1925,  0.6984, -1.4097],\n",
      "        [ 0.1794,  1.8951,  0.4954,  0.2692, -0.0770, -1.0205],\n",
      "        [-0.1690,  0.9178,  1.5810,  1.3010,  1.2753, -0.2010],\n",
      "        [ 0.4965, -1.5723,  0.9666, -1.1481, -1.1589,  0.3255],\n",
      "        [-0.6315, -2.8400, -1.3250,  0.1784, -2.1338,  1.0524],\n",
      "        [-0.3885, -0.9343, -0.4991, -1.0867,  0.8805,  1.5542],\n",
      "        [ 0.6266, -0.1755,  0.0983, -0.0935,  0.2662, -0.5850],\n",
      "        [ 0.8768,  1.6221, -1.4779,  1.1331, -1.2203,  1.3139],\n",
      "        [ 1.0533,  0.1388, -0.0635, -0.4486, -1.2785, -1.1440],\n",
      "        [ 0.2436, -0.0567,  0.3784,  1.6863, -0.5581, -0.0517],\n",
      "        [-0.9083,  0.3507,  1.5434,  0.1406,  1.0617, -0.9929]],\n",
      "       requires_grad=True)\n",
      "torch.Size([12, 6])\n"
     ]
    }
   ],
   "source": [
    "torch.manual_seed(123)\n",
    "vocab_size = 12\n",
    "output_dim = 6\n",
    "embedding_layer = torch.nn.Embedding(\n",
    "    num_embeddings=vocab_size,\n",
    "    embedding_dim=output_dim\n",
    ")\n",
    "print(embedding_layer.weight)\n",
    "print(embedding_layer.weight.shape)"
   ]
  },
  {
   "cell_type": "code",
   "execution_count": 49,
   "id": "d6bc7828-52ae-4f47-ba6f-65ded146f229",
   "metadata": {},
   "outputs": [
    {
     "name": "stdout",
     "output_type": "stream",
     "text": [
      "tensor([[-0.2196, -0.3792,  0.7671, -1.1925,  0.6984, -1.4097],\n",
      "        [ 0.1794,  1.8951,  0.4954,  0.2692, -0.0770, -1.0205],\n",
      "        [-0.1690,  0.9178,  1.5810,  1.3010,  1.2753, -0.2010],\n",
      "        [ 0.4965, -1.5723,  0.9666, -1.1481, -1.1589,  0.3255]],\n",
      "       grad_fn=<EmbeddingBackward0>)\n"
     ]
    }
   ],
   "source": [
    "input_ids = torch.tensor([1, 2, 3, 4]) # token ids for 4 vcabs\n",
    "print(embedding_layer(input_ids)) # applying embedding weights to input vocabs"
   ]
  },
  {
   "cell_type": "code",
   "execution_count": 50,
   "id": "552b8e36-b812-4cdb-8b1d-fb0786c76379",
   "metadata": {},
   "outputs": [],
   "source": [
    "vocab_size = 50257 # vocabolary size of BEP tokenizer\n",
    "output_dim = 256\n",
    "\n",
    "token_embedding_layer = torch.nn.Embedding(\n",
    "    num_embeddings=vocab_size,\n",
    "    embedding_dim=output_dim\n",
    ")"
   ]
  },
  {
   "cell_type": "code",
   "execution_count": 51,
   "id": "372c059e-4d0e-4e00-8830-e4f3ec354c79",
   "metadata": {},
   "outputs": [
    {
     "name": "stdout",
     "output_type": "stream",
     "text": [
      "torch.Size([50257, 256])\n"
     ]
    }
   ],
   "source": [
    "print(token_embedding_layer.weight.shape)"
   ]
  },
  {
   "cell_type": "markdown",
   "id": "558f3bfe-df5f-4be6-8ef0-45c8a4162f14",
   "metadata": {},
   "source": [
    "#### Using the previous token_embedding_layer, if we sample data from the data loader,\n",
    "#### we embed each token in each batch into a 256-dimensional vector. If we have a batch\n",
    "#### size of 8 with four tokens each, the result will be an 8 × 4 × 256 tensor."
   ]
  },
  {
   "cell_type": "code",
   "execution_count": 66,
   "id": "de712989-86e3-4acc-8fe1-8a24e75d57f1",
   "metadata": {},
   "outputs": [
    {
     "name": "stdout",
     "output_type": "stream",
     "text": [
      "tensor([[   40,   367,  2885,  1464],\n",
      "        [ 1807,  3619,   402,   271],\n",
      "        [10899,  2138,   257,  7026],\n",
      "        [15632,   438,  2016,   257],\n",
      "        [  922,  5891,  1576,   438],\n",
      "        [  568,   340,   373,   645],\n",
      "        [ 1049,  5975,   284,   502],\n",
      "        [  284,  3285,   326,    11]])\n",
      "torch.Size([8, 4])\n"
     ]
    }
   ],
   "source": [
    "max_length = 4\n",
    "dataloader = create_dataloader(\n",
    "    text=raw_text,# the verdict roman\n",
    "    batch_size=8,\n",
    "    max_length=max_length,\n",
    "    stride=max_length,\n",
    "    shuffle=False\n",
    ")\n",
    "\n",
    "data_iter = iter(dataloader)\n",
    "first_batch = next(data_iter) # first batch : 1. inputs, 2. targets\n",
    "print(first_batch[0])\n",
    "print(first_batch[0].shape)  # the token ID tensor is 8 × 4 dimensional, meaning that the data batch consists of eight text samples with four tokens each."
   ]
  },
  {
   "cell_type": "code",
   "execution_count": 67,
   "id": "c01a716b-6e67-4324-ae1b-d8fe15bd952a",
   "metadata": {},
   "outputs": [
    {
     "name": "stdout",
     "output_type": "stream",
     "text": [
      "torch.Size([8, 4, 256])\n"
     ]
    }
   ],
   "source": [
    "token_embeddings = token_embedding_layer(first_batch[0]) # embedding first batich inputs (token IDs) into 256-dimensional vectors\n",
    "print(token_embeddings.shape)  # each token ID is now embedded as a 256-dimensional vector."
   ]
  },
  {
   "cell_type": "code",
   "execution_count": 68,
   "id": "63306229-d41b-4919-9483-9d6b53209d88",
   "metadata": {},
   "outputs": [
    {
     "name": "stdout",
     "output_type": "stream",
     "text": [
      "torch.Size([4, 256])\n"
     ]
    }
   ],
   "source": [
    "# For a GPT model’s absolute embedding approach, we just need to create another\n",
    "# embedding layer that has the same embedding dimension as the token_embedding_layer:\n",
    "\n",
    "context_length = max_length\n",
    "pos_embedding_layer = torch.nn.Embedding(context_length, output_dim)\n",
    "pos_embeddings = pos_embedding_layer(torch.arange(context_length))\n",
    "print(pos_embeddings.shape)"
   ]
  },
  {
   "cell_type": "code",
   "execution_count": 69,
   "id": "cd9109fe-6952-4e46-af63-ff5d42868a7e",
   "metadata": {},
   "outputs": [
    {
     "name": "stdout",
     "output_type": "stream",
     "text": [
      "torch.Size([8, 4, 256])\n"
     ]
    }
   ],
   "source": [
    "input_embeddings = token_embeddings + pos_embeddings\n",
    "print(input_embeddings.shape)"
   ]
  }
 ],
 "metadata": {
  "kernelspec": {
   "display_name": "Python 3 (ipykernel)",
   "language": "python",
   "name": "python3"
  },
  "language_info": {
   "codemirror_mode": {
    "name": "ipython",
    "version": 3
   },
   "file_extension": ".py",
   "mimetype": "text/x-python",
   "name": "python",
   "nbconvert_exporter": "python",
   "pygments_lexer": "ipython3",
   "version": "3.12.2"
  }
 },
 "nbformat": 4,
 "nbformat_minor": 5
}
